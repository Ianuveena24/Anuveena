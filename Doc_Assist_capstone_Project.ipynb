{
 "cells": [
  {
   "cell_type": "code",
   "execution_count": 6,
   "id": "4820d895",
   "metadata": {},
   "outputs": [],
   "source": [
    "# importing all necessary libraries\n",
    "import pandas as pd\n",
    "import matplotlib.pyplot as plt\n",
    "from sklearn.model_selection import train_test_split\n",
    "from sklearn.ensemble import RandomForestClassifier\n",
    "from sklearn.impute import SimpleImputer\n",
    "from sklearn.preprocessing import StandardScaler\n",
    "from sklearn.preprocessing import LabelEncoder\n",
    "from sklearn.metrics import accuracy_score\n",
    "from collections import Counter\n",
    "import shap"
   ]
  },
  {
   "cell_type": "code",
   "execution_count": 5,
   "id": "42a7b78c",
   "metadata": {},
   "outputs": [],
   "source": [
    "# Function to collect patient's medical data from dataset\n",
    "def collect_patient_data():\n",
    "    \n",
    "    # Code to collect data from dataset\n",
    "    patient_data = pd.read_excel(\"/Users/anuveenasharma/Downloads\")\n",
    "    return patient_data"
   ]
  },
  {
   "cell_type": "code",
   "execution_count": 4,
   "id": "2324f910",
   "metadata": {},
   "outputs": [],
   "source": [
    "# Function to preprocess patient data\n",
    "def preprocess_data(patient_data):\n",
    "    \n",
    "    # Removing duplicates\n",
    "    patient_data = patient_data.drop_duplicates()\n",
    "    \n",
    "    # Imputing missing values\n",
    "    imputer = SimpleImputer(strategy='mean')\n",
    "    patient_data['AGE'] = imputer.fit_transform(patient_data[['AGE']])\n",
    "    \n",
    "    # Initializing OneHotEncoder\n",
    "    label_encoder = LabelEncoder()\n",
    "\n",
    "    # Fitting and transforming the data\n",
    "    patient_data['SEX'] = label_encoder.fit_transform(patient_data['SEX'])\n",
    "    return patient_data"
   ]
  },
  {
   "cell_type": "code",
   "execution_count": 5,
   "id": "c7a9db74",
   "metadata": {},
   "outputs": [],
   "source": [
    "# Function to perform feature engineering\n",
    "def feature_engineering(patient_data):\n",
    "    \n",
    "    # Performing feature selection if needed\n",
    "    features = patient_data.drop(columns=['/Users/anuveenasharma/Downloads'])\n",
    "    return features"
   ]
  },
  {
   "cell_type": "code",
   "execution_count": 6,
   "id": "752b7418",
   "metadata": {},
   "outputs": [],
   "source": [
    "def develop_model(features, labels):\n",
    "    \n",
    "    # Splitting data into train and test sets\n",
    "    X_train, X_test, y_train, y_test = train_test_split(features, labels, test_size=0.2, random_state=42)\n",
    "    \n",
    "    # Training random forest classifier\n",
    "    model = RandomForestClassifier()\n",
    "    model.fit(X_train, y_train)\n",
    "    \n",
    "    # Making predictions on the testing data\n",
    "    y_pred = model.predict(X_test)\n",
    "\n",
    "    # Evaluating the model's accuracy\n",
    "    accuracy = accuracy_score(y_test, y_pred)\n",
    "    print('Accuracy:', accuracy)\n",
    "    return model"
   ]
  },
  {
   "cell_type": "code",
   "execution_count": 7,
   "id": "7feddf43",
   "metadata": {},
   "outputs": [],
   "source": [
    "# Function to generate treatment recommendations\n",
    "def generate_recommendations(model, patient_data):\n",
    "   \n",
    "    # Using trained model to predict treatment outcomes\n",
    "    predictions = model.predict(patient_data)\n",
    "    \n",
    "    # Defining treatment options\n",
    "    treatment_options = [\"Treatment 0\", \"Treatment 1\"]\n",
    "    \n",
    "    # Counting occurrences of each treatment recommendations\n",
    "    recommendations_count = Counter([treatment_options[prediction] for prediction in predictions])\n",
    "    \n",
    "    # Displaying count of each treatment\n",
    "    for treatment, count in recommendations_count.items():\n",
    "        print(f\"{treatment}: {count}\")\n",
    "    return recommendations_count"
   ]
  },
  {
   "cell_type": "code",
   "execution_count": 8,
   "id": "7a2b0dff",
   "metadata": {},
   "outputs": [],
   "source": [
    "# Function to interpret model predictions\n",
    "def interpret_predictions(model, features):\n",
    "    \n",
    "    # Initializing explainer\n",
    "    explainer = shap.TreeExplainer(model)\n",
    "    \n",
    "    # Calculating SHAP values\n",
    "    shap_values = explainer.shap_values(features)\n",
    "    \n",
    "    # Interpreting and visualizing SHAP values\n",
    "    shap.summary_plot(shap_values, features)\n",
    "    \n",
    "    # Getting feature importances\n",
    "    feature_importances = model.feature_importances_\n",
    "\n",
    "    # Getting feature names\n",
    "    feature_names = features.columns\n",
    "\n",
    "    # Sortting feature importances in descending order\n",
    "    sorted_indices = feature_importances.argsort()[::-1]\n",
    "\n",
    "    # Plotting feature importances\n",
    "    plt.figure(figsize=(10, 6))\n",
    "    plt.bar(range(len(feature_importances)), feature_importances[sorted_indices])\n",
    "    plt.xticks(range(len(feature_importances)), [feature_names[i] for i in sorted_indices], rotation=90)\n",
    "    plt.xlabel('Features')\n",
    "    plt.ylabel('Importance')\n",
    "    plt.title('Feature Importance')\n",
    "    plt.tight_layout()\n",
    "    plt.show()"
   ]
  },
  {
   "cell_type": "code",
   "execution_count": 14,
   "id": "ab071612",
   "metadata": {},
   "outputs": [],
   "source": [
    "# Main function\n",
    "def main():\n",
    "    \n",
    "    # Collectting patient data\n",
    "    patient_data = collect_patient_data()\n",
    "\n",
    "    # Preprocessing patient data\n",
    "    processed_data = preprocess_data(patient_data)\n",
    "    \n",
    "    # Performming feature engineering\n",
    "    features = feature_engineering(processed_data)\n",
    "\n",
    "    # Assuming 'labels' are available for training\n",
    "    labels = processed_data['/Users/anuveenasharma/Downloads']\n",
    "\n",
    "    # Developing machine learning model\n",
    "    model = develop_model(features, labels)\n",
    "    \n",
    "    # Generating treatment recommendations\n",
    "    recommendations = generate_recommendations(model, features)\n",
    "    \n",
    "    # Interpreting model predictions\n",
    "    interpret_predictions(model, features)"
   ]
  },
  {
   "cell_type": "code",
   "execution_count": null,
   "id": "b2e698eb",
   "metadata": {},
   "outputs": [],
   "source": [
    "if __name__ == \"main\":\n",
    "    main()"
   ]
  },
  {
   "cell_type": "code",
   "execution_count": null,
   "id": "24e05068",
   "metadata": {},
   "outputs": [],
   "source": []
  }
 ],
 "metadata": {
  "kernelspec": {
   "display_name": "Python 3 (ipykernel)",
   "language": "python",
   "name": "python3"
  },
  "language_info": {
   "codemirror_mode": {
    "name": "ipython",
    "version": 3
   },
   "file_extension": ".py",
   "mimetype": "text/x-python",
   "name": "python",
   "nbconvert_exporter": "python",
   "pygments_lexer": "ipython3",
   "version": "3.11.5"
  }
 },
 "nbformat": 4,
 "nbformat_minor": 5
}
